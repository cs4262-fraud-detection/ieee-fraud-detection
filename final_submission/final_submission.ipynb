{
 "cells": [
  {
   "cell_type": "code",
   "execution_count": 1,
   "metadata": {},
   "outputs": [],
   "source": [
    "import numpy as np\n",
    "import pandas as pd\n",
    "import matplotlib.pyplot as plt\n",
    "import warnings\n",
    "warnings.filterwarnings('ignore')\n",
    "from sklearn import preprocessing, decomposition, model_selection, linear_model, metrics, ensemble, svm, utils\n",
    "from sklearn.datasets import make_classification\n",
    "import gc\n",
    "from tensorflow.keras.models import Sequential\n",
    "from tensorflow.keras.layers import Dense, Dropout\n",
    "from tensorflow.keras import metrics\n",
    "import sklearn\n",
    "import itertools"
   ]
  },
  {
   "cell_type": "code",
   "execution_count": 2,
   "metadata": {},
   "outputs": [],
   "source": [
    "# Get the data\n",
    "transactions = pd.read_csv('data/transactions.csv')\n",
    "identities = pd.read_csv('data/identities.csv')"
   ]
  },
  {
   "cell_type": "code",
   "execution_count": 3,
   "metadata": {},
   "outputs": [],
   "source": [
    "# Join datasets\n",
    "dataset = transactions.merge(identities, how='left', left_index=True, right_index=True)"
   ]
  },
  {
   "cell_type": "code",
   "execution_count": 4,
   "metadata": {},
   "outputs": [],
   "source": [
    "# Reduce memory usage\n",
    "def reduce_mem(df):\n",
    "  start_mem=df.memory_usage().sum()/1024**2\n",
    "  print('Initial Memory Usage : {:.2f} MB'.format(start_mem))\n",
    "  for col in df.columns:\n",
    "    col_type=df[col].dtype\n",
    "    if col_type != object:\n",
    "      mn, mx = df[col].min(), df[col].max()\n",
    "      if str(col_type)[:3]=='int':\n",
    "        if mn>np.iinfo(np.int8).min and mx<np.iinfo(np.int8).max:\n",
    "          df[col]=df[col].astype(np.int8)\n",
    "        elif mn>np.iinfo(np.int16).min and mx<np.iinfo(np.int16).max:\n",
    "          df[col]=df[col].astype(np.int16)\n",
    "        elif mn>np.iinfo(np.int32).min and mx<np.iinfo(np.int32).max:\n",
    "          df[col]=df[col].astype(np.int32)\n",
    "      else:\n",
    "        if mn>np.finfo(np.float16).min and mx<np.finfo(np.float16).max:\n",
    "          df[col]=df[col].astype(np.float16)\n",
    "        elif mn>np.finfo(np.float32).min and mx<np.finfo(np.float32).max:\n",
    "          df[col]=df[col].astype(np.float32)\n",
    "  end_mem = df.memory_usage().sum()/1024**2\n",
    "  print('Final Memory Usage : {:.2f} MB'.format(end_mem))\n",
    "  print('Decreased by {:.2f}%'.format(100*(start_mem-end_mem)/start_mem))\n",
    "  return df"
   ]
  },
  {
   "cell_type": "code",
   "execution_count": 5,
   "metadata": {},
   "outputs": [
    {
     "name": "stdout",
     "output_type": "stream",
     "text": [
      "Initial Memory Usage : 1959.88 MB\n",
      "Final Memory Usage : 648.22 MB\n",
      "Decreased by 66.93%\n"
     ]
    }
   ],
   "source": [
    "dataset = reduce_mem(dataset)"
   ]
  },
  {
   "cell_type": "code",
   "execution_count": 6,
   "metadata": {},
   "outputs": [
    {
     "data": {
      "text/plain": [
       "56"
      ]
     },
     "execution_count": 6,
     "metadata": {},
     "output_type": "execute_result"
    }
   ],
   "source": [
    "del transactions, identities\n",
    "gc.collect()"
   ]
  },
  {
   "cell_type": "code",
   "execution_count": 7,
   "metadata": {},
   "outputs": [
    {
     "name": "stdout",
     "output_type": "stream",
     "text": [
      "Notice that the dataset is imbalanced. Non-fraudulent transactions are a minority.\n"
     ]
    },
    {
     "data": {
      "text/plain": [
       "([<matplotlib.patches.Wedge at 0x1a35defb70>,\n",
       "  <matplotlib.patches.Wedge at 0x1a361777b8>],\n",
       " [Text(-1.0933608378126303, 0.12067343675251445, 'Fraudulent Transactions'),\n",
       "  Text(1.0933608364003475, -0.12067344954849314, 'Non Fraudulent Transactions')],\n",
       " [Text(-0.5963786388068892, 0.0658218745922806, '96.5%'),\n",
       "  Text(0.5963786380365531, -0.06582188157190534, '3.5%')])"
      ]
     },
     "execution_count": 7,
     "metadata": {},
     "output_type": "execute_result"
    },
    {
     "data": {
      "image/png": "[encoded data removed]",
      "text/plain": [
       "<Figure size 432x288 with 1 Axes>"
      ]
     },
     "metadata": {},
     "output_type": "display_data"
    }
   ],
   "source": [
    "print(\"Notice that the dataset is imbalanced. Non-fraudulent transactions are a minority.\")\n",
    "fraudulent_transactions = dataset[dataset.isFraud==0].shape[0]\n",
    "non_fraudulent_transactions = dataset[dataset.isFraud==1].shape[0]\n",
    "plt.pie([fraudulent_transactions, non_fraudulent_transactions], labels=[\"Fraudulent Transactions\", \"Non Fraudulent Transactions\"], autopct='%.1f%%')"
   ]
  },
  {
   "cell_type": "code",
   "execution_count": 8,
   "metadata": {},
   "outputs": [
    {
     "data": {
      "text/plain": [
       "'\\nnot_fraud_downsampled = utils.resample(not_fraud, replace=False, n_samples = len(fraud), random_state = 27) \\nsownsampled_dataset = pd.concat([not_fraud_downsampled, fraud])\\n'"
      ]
     },
     "execution_count": 8,
     "metadata": {},
     "output_type": "execute_result"
    }
   ],
   "source": [
    "# Note: We tried executing the code below in order to perform dopwnsampling on the majority class (fraudulent\n",
    "# transactions). However, this approach did not does not improve final F1 scores, and so we decided to\n",
    "# train our models with the complete dataset instead.\n",
    "'''\n",
    "not_fraud_downsampled = utils.resample(not_fraud, replace=False, n_samples = len(fraud), random_state = 27) \n",
    "sownsampled_dataset = pd.concat([not_fraud_downsampled, fraud])\n",
    "'''"
   ]
  },
  {
   "cell_type": "code",
   "execution_count": 9,
   "metadata": {},
   "outputs": [],
   "source": [
    "# Fill NaN values with a default value of 0.\n",
    "dataset = dataset.fillna(0)"
   ]
  },
  {
   "cell_type": "code",
   "execution_count": 10,
   "metadata": {},
   "outputs": [],
   "source": [
    "# Encode labels.\n",
    "for col in dataset.columns:\n",
    "    if dataset[col].dtype=='object': \n",
    "        lbl = preprocessing.LabelEncoder()\n",
    "        lbl.fit(list(dataset[col].values))\n",
    "        dataset[col] = lbl.transform(list(dataset[col].values))"
   ]
  },
  {
   "cell_type": "code",
   "execution_count": 11,
   "metadata": {},
   "outputs": [],
   "source": [
    "y = dataset.isFraud.values\n",
    "dataset = dataset.drop('isFraud', axis=1)"
   ]
  },
  {
   "cell_type": "code",
   "execution_count": 12,
   "metadata": {},
   "outputs": [],
   "source": [
    "# Standardize the data.\n",
    "dataset_columns = list(dataset.columns)\n",
    "dataset[dataset_columns] = preprocessing.StandardScaler().fit_transform(dataset[dataset_columns])"
   ]
  },
  {
   "cell_type": "code",
   "execution_count": 13,
   "metadata": {},
   "outputs": [],
   "source": [
    "X_pre_pca = dataset[dataset_columns]"
   ]
  },
  {
   "cell_type": "code",
   "execution_count": 14,
   "metadata": {},
   "outputs": [
    {
     "data": {
      "image/png": "[encoded data removed]",
      "text/plain": [
       "<Figure size 432x288 with 1 Axes>"
      ]
     },
     "metadata": {
      "needs_background": "light"
     },
     "output_type": "display_data"
    },
    {
     "name": "stdout",
     "output_type": "stream",
     "text": [
      "We need at least 73 to explain 90% of the variance in the dataset.\n"
     ]
    }
   ],
   "source": [
    "dataset_pca = decomposition.PCA().fit(X_pre_pca) \n",
    "cumulative_sum = np.cumsum(dataset_pca.explained_variance_ratio_)\n",
    "plt.figure()\n",
    "plt.plot(cumulative_sum)\n",
    "plt.xlabel('Number of components')\n",
    "plt.ylabel('Explained variance ratio')\n",
    "plt.title('Explained variance vs. Number of components')\n",
    "plt.show()\n",
    "\n",
    "reduced_number_of_dimensions = None\n",
    "for index, sum_value in enumerate(cumulative_sum):\n",
    "    if sum_value > 0.9:\n",
    "        reduced_number_of_dimensions = index+1\n",
    "        break\n",
    "print(\"We need at least \" + str(reduced_number_of_dimensions) + \" to explain 90% of the variance in the dataset.\")"
   ]
  },
  {
   "cell_type": "code",
   "execution_count": 15,
   "metadata": {},
   "outputs": [
    {
     "name": "stdout",
     "output_type": "stream",
     "text": [
      "0.8995486605290798\n"
     ]
    }
   ],
   "source": [
    "# Reduce number of dimensions through PCA. We decrease the amount of computational time required to model the data\n",
    "# by reducing dimensions (notice that the transformed dataset explains at least 90% of the variance).\n",
    "pca = decomposition.PCA(n_components=reduced_number_of_dimensions, random_state=42)\n",
    "X_post_pca = pca.fit_transform(X_pre_pca) \n",
    "print(pca.explained_variance_ratio_.sum())"
   ]
  },
  {
   "cell_type": "code",
   "execution_count": 16,
   "metadata": {},
   "outputs": [],
   "source": [
    "# Perform 80/20 train/test split.\n",
    "X_train, X_test, y_train, y_test = model_selection.train_test_split(X_post_pca, y, test_size=0.2, random_state=1)"
   ]
  },
  {
   "cell_type": "code",
   "execution_count": 31,
   "metadata": {},
   "outputs": [],
   "source": [
    "# The following function returns a model with the hyperparameters that yield the best f1 score.\n",
    "def get_model_with_best_estimators(model, parameters, X_train, y_train):\n",
    "    grid_search = model_selection.GridSearchCV(model, parameters, scoring='f1', cv=4)\n",
    "    grid_search.fit(X_train, y_train)\n",
    "    # print(\"The best (weighted) F1 score obtained on the training dataset is: \" + str(grid_search.best_score_))\n",
    "    return grid_search.best_estimator_"
   ]
  },
  {
   "cell_type": "code",
   "execution_count": 32,
   "metadata": {},
   "outputs": [],
   "source": [
    "# Extracted from: https://scikit-learn.org/0.18/auto_examples/model_selection/plot_confusion_matrix.html\n",
    "def plot_confusion_matrix(cm, classes,\n",
    "                          normalize=False,\n",
    "                          title='Confusion matrix',\n",
    "                          cmap=plt.cm.Blues):\n",
    "    \"\"\"\n",
    "    This function prints and plots the confusion matrix.\n",
    "    Normalization can be applied by setting `normalize=True`.\n",
    "    \"\"\"\n",
    "    plt.imshow(cm, interpolation='nearest', cmap=cmap)\n",
    "    plt.title(title)\n",
    "    plt.colorbar()\n",
    "    tick_marks = np.arange(len(classes))\n",
    "    plt.xticks(tick_marks, classes, rotation=45)\n",
    "    plt.yticks(tick_marks, classes)\n",
    "\n",
    "    if normalize:\n",
    "        cm = cm.astype('float') / cm.sum(axis=1)[:, np.newaxis]\n",
    "        print(\"Normalized confusion matrix\")\n",
    "    else:\n",
    "        print('Confusion matrix, without normalization')\n",
    "\n",
    "    # print(cm)\n",
    "\n",
    "    thresh = cm.max() / 2.\n",
    "    for i, j in itertools.product(range(cm.shape[0]), range(cm.shape[1])):\n",
    "        plt.text(j, i, cm[i, j],\n",
    "                 horizontalalignment=\"center\",\n",
    "                 color=\"white\" if cm[i, j] > thresh else \"black\")\n",
    "\n",
    "    plt.tight_layout()\n",
    "    plt.ylabel('True label')\n",
    "    plt.xlabel('Predicted label')"
   ]
  },
  {
   "cell_type": "code",
   "execution_count": 33,
   "metadata": {},
   "outputs": [],
   "source": [
    "# SVM model.\n",
    "svm_parameters = {'kernel':('linear', 'rbf'), 'C':[1, 10]}\n",
    "svm_model = sklearn.svm.SVC(max_iter=700)\n",
    "best_svm_model = get_model_with_best_estimators(svm_model, svm_parameters, X_train, y_train)"
   ]
  },
  {
   "cell_type": "code",
   "execution_count": 34,
   "metadata": {},
   "outputs": [
    {
     "name": "stdout",
     "output_type": "stream",
     "text": [
      "Confusion matrix, without normalization\n"
     ]
    },
    {
     "data": {
      "image/png": "[encoded data removed]",
      "text/plain": [
       "<Figure size 432x288 with 2 Axes>"
      ]
     },
     "metadata": {
      "needs_background": "light"
     },
     "output_type": "display_data"
    }
   ],
   "source": [
    "cf_matrix_svc = sklearn.metrics.confusion_matrix(y_test, best_svm_model.predict(X_test))\n",
    "plot_confusion_matrix(cf_matrix_svc, [\"Fraudulent transactions\", \"Non-fraudulent Transactions\"])"
   ]
  },
  {
   "cell_type": "code",
   "execution_count": 35,
   "metadata": {},
   "outputs": [
    {
     "name": "stdout",
     "output_type": "stream",
     "text": [
      "              precision    recall  f1-score   support\n",
      "\n",
      "           0       0.98      0.71      0.83    113974\n",
      "           1       0.07      0.60      0.13      4134\n",
      "\n",
      "    accuracy                           0.71    118108\n",
      "   macro avg       0.53      0.66      0.48    118108\n",
      "weighted avg       0.95      0.71      0.80    118108\n",
      "\n"
     ]
    }
   ],
   "source": [
    "print(sklearn.metrics.classification_report(y_test, best_svm_model.predict(X_test)))"
   ]
  },
  {
   "cell_type": "code",
   "execution_count": 36,
   "metadata": {},
   "outputs": [],
   "source": [
    "# Logistic regression model.\n",
    "logistic_regression_parameters = {'C':[1, 10], 'penalty':('l2',), 'solver':('saga', 'newton-cg')}\n",
    "logistic_regression = linear_model.LogisticRegression(n_jobs=-1, max_iter=700)\n",
    "best_logistic_regression_model = get_model_with_best_estimators(logistic_regression, logistic_regression_parameters, X_train, y_train)"
   ]
  },
  {
   "cell_type": "code",
   "execution_count": 37,
   "metadata": {},
   "outputs": [
    {
     "name": "stdout",
     "output_type": "stream",
     "text": [
      "Confusion matrix, without normalization\n"
     ]
    },
    {
     "data": {
      "image/png": "[encoded data removed]",
      "text/plain": [
       "<Figure size 432x288 with 2 Axes>"
      ]
     },
     "metadata": {
      "needs_background": "light"
     },
     "output_type": "display_data"
    }
   ],
   "source": [
    "cf_matrix_logistic_regression = sklearn.metrics.confusion_matrix(y_test, best_logistic_regression_model.predict(X_test))\n",
    "plot_confusion_matrix(cf_matrix_logistic_regression, [\"Fraudulent transactions\", \"Non-fraudulent Transactions\"])"
   ]
  },
  {
   "cell_type": "code",
   "execution_count": 38,
   "metadata": {},
   "outputs": [
    {
     "name": "stdout",
     "output_type": "stream",
     "text": [
      "              precision    recall  f1-score   support\n",
      "\n",
      "           0       0.97      1.00      0.98    113974\n",
      "           1       0.80      0.16      0.27      4134\n",
      "\n",
      "    accuracy                           0.97    118108\n",
      "   macro avg       0.89      0.58      0.63    118108\n",
      "weighted avg       0.96      0.97      0.96    118108\n",
      "\n"
     ]
    }
   ],
   "source": [
    "print(sklearn.metrics.classification_report(y_test, best_logistic_regression_model.predict(X_test)))"
   ]
  },
  {
   "cell_type": "code",
   "execution_count": 39,
   "metadata": {},
   "outputs": [],
   "source": [
    "# Random forest model.\n",
    "random_forest_parameters = {'n_estimators':[50, 150], 'criterion':('gini', 'entropy')}\n",
    "random_forest = ensemble.RandomForestClassifier(n_jobs=-1)\n",
    "best_random_forest_model = get_model_with_best_estimators(random_forest, random_forest_parameters, X_train, y_train)"
   ]
  },
  {
   "cell_type": "code",
   "execution_count": 40,
   "metadata": {},
   "outputs": [
    {
     "name": "stdout",
     "output_type": "stream",
     "text": [
      "Confusion matrix, without normalization\n"
     ]
    },
    {
     "data": {
      "image/png": "[encoded data removed]",
      "text/plain": [
       "<Figure size 432x288 with 2 Axes>"
      ]
     },
     "metadata": {
      "needs_background": "light"
     },
     "output_type": "display_data"
    }
   ],
   "source": [
    "cf_matrix_random_forest = sklearn.metrics.confusion_matrix(y_test, best_random_forest_model.predict(X_test))\n",
    "plot_confusion_matrix(cf_matrix_random_forest, [\"Fraudulent transactions\", \"Non-fraudulent Transactions\"])"
   ]
  },
  {
   "cell_type": "code",
   "execution_count": 41,
   "metadata": {},
   "outputs": [
    {
     "name": "stdout",
     "output_type": "stream",
     "text": [
      "              precision    recall  f1-score   support\n",
      "\n",
      "           0       0.98      1.00      0.99    113974\n",
      "           1       0.92      0.34      0.49      4134\n",
      "\n",
      "    accuracy                           0.98    118108\n",
      "   macro avg       0.95      0.67      0.74    118108\n",
      "weighted avg       0.97      0.98      0.97    118108\n",
      "\n"
     ]
    }
   ],
   "source": [
    "print(sklearn.metrics.classification_report(y_test, best_random_forest_model.predict(X_test)))"
   ]
  },
  {
   "cell_type": "code",
   "execution_count": 42,
   "metadata": {},
   "outputs": [],
   "source": [
    "def split_with_PCA(k, x_tr, y):\n",
    "    X_pca = decomposition.PCA(n_components=k).fit_transform(x_tr)  \n",
    "    return model_selection.train_test_split(X_pca, y, test_size=.2, random_state=1)"
   ]
  },
  {
   "cell_type": "code",
   "execution_count": 43,
   "metadata": {},
   "outputs": [],
   "source": [
    "# Neural network approach.\n",
    "n_cols = 300\n",
    "x_tr, x_test, y_tr, y_test = split_with_PCA(300, X_pre_pca, y)\n",
    "hidden_layers_neurons = [[500, 600], [300, 350], [100, 150], [40, 70]]\n",
    "best_nn_model = None\n",
    "best_nn_macro_f1_score = -float('inf')"
   ]
  },
  {
   "cell_type": "code",
   "execution_count": 51,
   "metadata": {},
   "outputs": [],
   "source": [
    "# This function performs a \"customized grid search\" on the number of neurons per layer of a sequential neural network.\n",
    "def evaluate_optimal_nn_model(neurons_per_hidden_layer, x_tr, x_test, y_tr, y_test, n_cols):\n",
    "    cur_nn = Sequential()\n",
    "    batch_size = 5000\n",
    "    num_epochs = 10\n",
    "    \n",
    "    cur_nn.add(Dense(n_cols, activation='relu', input_shape=(n_cols,)))\n",
    "    cur_nn.add(Dropout(0.2))\n",
    "    cur_nn.add(Dense(neurons_per_hidden_layer[0], activation='relu'))\n",
    "    cur_nn.add(Dropout(0.2))\n",
    "    cur_nn.add(Dense(neurons_per_hidden_layer[1], activation='relu'))\n",
    "    cur_nn.add(Dropout(0.2))\n",
    "    cur_nn.add(Dense(neurons_per_hidden_layer[2], activation='relu'))\n",
    "    cur_nn.add(Dropout(0.2))\n",
    "    cur_nn.add(Dense(neurons_per_hidden_layer[3], activation='relu'))\n",
    "    cur_nn.add(Dropout(0.2))\n",
    "    cur_nn.add(Dense(1, activation='sigmoid'))\n",
    "    cur_nn.compile(loss='binary_crossentropy', optimizer='adam', metrics=['accuracy', 'categorical_accuracy'])\n",
    "    \n",
    "    x_vl, y_vl = x_tr[:batch_size], y_tr[:batch_size]\n",
    "    x_train, y_train = x_tr[batch_size:], y_tr[batch_size:]\n",
    "    \n",
    "    cur_nn.fit(x_train, y_train, validation_data=(x_vl, y_vl), epochs=num_epochs, batch_size=batch_size, verbose=0)\n",
    "    \n",
    "    print(\"Classification report for the following parameters (equal to number of neurons per hidden layer) = \" + str(neurons_per_hidden_layer))\n",
    "    cl_report = sklearn.metrics.classification_report(y_test, cur_nn.predict_classes(x_test))\n",
    "    print(cl_report)\n",
    "    \n",
    "    macro_f1_score = sklearn.metrics.f1_score(y_test, cur_nn.predict_classes(x_test), average='macro')\n",
    "    \n",
    "    global best_nn_macro_f1_score, best_nn_model\n",
    "    if macro_f1_score > best_nn_macro_f1_score:\n",
    "        best_nn_macro_f1_score = macro_f1_score\n",
    "        best_nn_model = cur_nn"
   ]
  },
  {
   "cell_type": "code",
   "execution_count": 52,
   "metadata": {},
   "outputs": [
    {
     "name": "stdout",
     "output_type": "stream",
     "text": [
      "Classification report for the following parameters (equal to number of neurons per hidden layer) = (500, 300, 100, 40)\n",
      "              precision    recall  f1-score   support\n",
      "\n",
      "           0       0.98      1.00      0.99    113974\n",
      "           1       0.83      0.50      0.63      4134\n",
      "\n",
      "    accuracy                           0.98    118108\n",
      "   macro avg       0.91      0.75      0.81    118108\n",
      "weighted avg       0.98      0.98      0.98    118108\n",
      "\n",
      "Classification report for the following parameters (equal to number of neurons per hidden layer) = (500, 300, 100, 70)\n",
      "              precision    recall  f1-score   support\n",
      "\n",
      "           0       0.98      1.00      0.99    113974\n",
      "           1       0.83      0.51      0.63      4134\n",
      "\n",
      "    accuracy                           0.98    118108\n",
      "   macro avg       0.90      0.75      0.81    118108\n",
      "weighted avg       0.98      0.98      0.98    118108\n",
      "\n",
      "Classification report for the following parameters (equal to number of neurons per hidden layer) = (500, 300, 150, 40)\n",
      "              precision    recall  f1-score   support\n",
      "\n",
      "           0       0.98      1.00      0.99    113974\n",
      "           1       0.85      0.49      0.62      4134\n",
      "\n",
      "    accuracy                           0.98    118108\n",
      "   macro avg       0.91      0.74      0.81    118108\n",
      "weighted avg       0.98      0.98      0.98    118108\n",
      "\n",
      "Classification report for the following parameters (equal to number of neurons per hidden layer) = (500, 300, 150, 70)\n",
      "              precision    recall  f1-score   support\n",
      "\n",
      "           0       0.98      1.00      0.99    113974\n",
      "           1       0.86      0.48      0.61      4134\n",
      "\n",
      "    accuracy                           0.98    118108\n",
      "   macro avg       0.92      0.74      0.80    118108\n",
      "weighted avg       0.98      0.98      0.98    118108\n",
      "\n",
      "Classification report for the following parameters (equal to number of neurons per hidden layer) = (500, 350, 100, 40)\n",
      "              precision    recall  f1-score   support\n",
      "\n",
      "           0       0.98      1.00      0.99    113974\n",
      "           1       0.87      0.47      0.61      4134\n",
      "\n",
      "    accuracy                           0.98    118108\n",
      "   macro avg       0.93      0.73      0.80    118108\n",
      "weighted avg       0.98      0.98      0.98    118108\n",
      "\n",
      "Classification report for the following parameters (equal to number of neurons per hidden layer) = (500, 350, 100, 70)\n",
      "              precision    recall  f1-score   support\n",
      "\n",
      "           0       0.98      1.00      0.99    113974\n",
      "           1       0.79      0.52      0.63      4134\n",
      "\n",
      "    accuracy                           0.98    118108\n",
      "   macro avg       0.89      0.76      0.81    118108\n",
      "weighted avg       0.98      0.98      0.98    118108\n",
      "\n",
      "Classification report for the following parameters (equal to number of neurons per hidden layer) = (500, 350, 150, 40)\n",
      "              precision    recall  f1-score   support\n",
      "\n",
      "           0       0.98      1.00      0.99    113974\n",
      "           1       0.81      0.51      0.63      4134\n",
      "\n",
      "    accuracy                           0.98    118108\n",
      "   macro avg       0.89      0.75      0.81    118108\n",
      "weighted avg       0.98      0.98      0.98    118108\n",
      "\n",
      "Classification report for the following parameters (equal to number of neurons per hidden layer) = (500, 350, 150, 70)\n",
      "              precision    recall  f1-score   support\n",
      "\n",
      "           0       0.98      1.00      0.99    113974\n",
      "           1       0.85      0.50      0.63      4134\n",
      "\n",
      "    accuracy                           0.98    118108\n",
      "   macro avg       0.92      0.75      0.81    118108\n",
      "weighted avg       0.98      0.98      0.98    118108\n",
      "\n",
      "Classification report for the following parameters (equal to number of neurons per hidden layer) = (600, 300, 100, 40)\n",
      "              precision    recall  f1-score   support\n",
      "\n",
      "           0       0.98      1.00      0.99    113974\n",
      "           1       0.84      0.49      0.62      4134\n",
      "\n",
      "    accuracy                           0.98    118108\n",
      "   macro avg       0.91      0.74      0.80    118108\n",
      "weighted avg       0.98      0.98      0.98    118108\n",
      "\n",
      "Classification report for the following parameters (equal to number of neurons per hidden layer) = (600, 300, 100, 70)\n",
      "              precision    recall  f1-score   support\n",
      "\n",
      "           0       0.98      1.00      0.99    113974\n",
      "           1       0.83      0.49      0.62      4134\n",
      "\n",
      "    accuracy                           0.98    118108\n",
      "   macro avg       0.90      0.74      0.80    118108\n",
      "weighted avg       0.98      0.98      0.98    118108\n",
      "\n",
      "Classification report for the following parameters (equal to number of neurons per hidden layer) = (600, 300, 150, 40)\n",
      "              precision    recall  f1-score   support\n",
      "\n",
      "           0       0.98      1.00      0.99    113974\n",
      "           1       0.86      0.48      0.62      4134\n",
      "\n",
      "    accuracy                           0.98    118108\n",
      "   macro avg       0.92      0.74      0.80    118108\n",
      "weighted avg       0.98      0.98      0.98    118108\n",
      "\n",
      "Classification report for the following parameters (equal to number of neurons per hidden layer) = (600, 300, 150, 70)\n",
      "              precision    recall  f1-score   support\n",
      "\n",
      "           0       0.98      1.00      0.99    113974\n",
      "           1       0.85      0.50      0.63      4134\n",
      "\n",
      "    accuracy                           0.98    118108\n",
      "   macro avg       0.91      0.75      0.81    118108\n",
      "weighted avg       0.98      0.98      0.98    118108\n",
      "\n",
      "Classification report for the following parameters (equal to number of neurons per hidden layer) = (600, 350, 100, 40)\n",
      "              precision    recall  f1-score   support\n",
      "\n",
      "           0       0.98      1.00      0.99    113974\n",
      "           1       0.83      0.51      0.63      4134\n",
      "\n",
      "    accuracy                           0.98    118108\n",
      "   macro avg       0.91      0.75      0.81    118108\n",
      "weighted avg       0.98      0.98      0.98    118108\n",
      "\n",
      "Classification report for the following parameters (equal to number of neurons per hidden layer) = (600, 350, 100, 70)\n",
      "              precision    recall  f1-score   support\n",
      "\n",
      "           0       0.98      1.00      0.99    113974\n",
      "           1       0.85      0.48      0.61      4134\n",
      "\n",
      "    accuracy                           0.98    118108\n",
      "   macro avg       0.92      0.74      0.80    118108\n",
      "weighted avg       0.98      0.98      0.98    118108\n",
      "\n",
      "Classification report for the following parameters (equal to number of neurons per hidden layer) = (600, 350, 150, 40)\n",
      "              precision    recall  f1-score   support\n",
      "\n",
      "           0       0.98      1.00      0.99    113974\n",
      "           1       0.83      0.51      0.63      4134\n",
      "\n",
      "    accuracy                           0.98    118108\n",
      "   macro avg       0.91      0.75      0.81    118108\n",
      "weighted avg       0.98      0.98      0.98    118108\n",
      "\n",
      "Classification report for the following parameters (equal to number of neurons per hidden layer) = (600, 350, 150, 70)\n",
      "              precision    recall  f1-score   support\n",
      "\n",
      "           0       0.98      1.00      0.99    113974\n",
      "           1       0.80      0.52      0.63      4134\n",
      "\n",
      "    accuracy                           0.98    118108\n",
      "   macro avg       0.89      0.76      0.81    118108\n",
      "weighted avg       0.98      0.98      0.98    118108\n",
      "\n"
     ]
    }
   ],
   "source": [
    "# We pass all different combinations of number of neurons for each hidden layer in order to find the best NN model.\n",
    "for combination_neurons in itertools.product(*hidden_layers_neurons):\n",
    "    evaluate_optimal_nn_model(combination_neurons, x_tr, x_test, y_tr, y_test, n_cols)"
   ]
  },
  {
   "cell_type": "code",
   "execution_count": 53,
   "metadata": {},
   "outputs": [
    {
     "name": "stdout",
     "output_type": "stream",
     "text": [
      "Classification report (in terms of highest f1 macro score) for the neural network model: \n",
      "              precision    recall  f1-score   support\n",
      "\n",
      "           0       0.98      1.00      0.99    113974\n",
      "           1       0.83      0.51      0.63      4134\n",
      "\n",
      "    accuracy                           0.98    118108\n",
      "   macro avg       0.91      0.75      0.81    118108\n",
      "weighted avg       0.98      0.98      0.98    118108\n",
      "\n"
     ]
    }
   ],
   "source": [
    "print(\"Best neural network model (in terms of highest f1 macro/unweighted score): \")\n",
    "cl_report = sklearn.metrics.classification_report(y_test, best_nn_model.predict_classes(x_test))\n",
    "print(cl_report)"
   ]
  },
  {
   "cell_type": "code",
   "execution_count": null,
   "metadata": {},
   "outputs": [],
   "source": []
  }
 ],
 "metadata": {
  "kernelspec": {
   "display_name": "Python 3",
   "language": "python",
   "name": "python3"
  },
  "language_info": {
   "codemirror_mode": {
    "name": "ipython",
    "version": 3
   },
   "file_extension": ".py",
   "mimetype": "text/x-python",
   "name": "python",
   "nbconvert_exporter": "python",
   "pygments_lexer": "ipython3",
   "version": "3.7.3"
  }
 },
 "nbformat": 4,
 "nbformat_minor": 2
}
