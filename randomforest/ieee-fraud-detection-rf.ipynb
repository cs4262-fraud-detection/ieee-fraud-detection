{
 "cells": [
  {
   "cell_type": "code",
   "execution_count": 1,
   "metadata": {
    "_cell_guid": "b1076dfc-b9ad-4769-8c92-a6c4dae69d19",
    "_uuid": "8f2839f25d086af736a60e9eeb907d3b93b6e0e5"
   },
   "outputs": [],
   "source": [
    "import os\n",
    "import random\n",
    "import numpy as np # linear algebra\n",
    "import pandas as pd # data processing, CSV file I/O (e.g. pd.read_csv)\n",
    "from sklearn.ensemble import RandomForestClassifier\n",
    "from sklearn.pipeline import Pipeline\n",
    "from sklearn.model_selection import GridSearchCV, PredefinedSplit"
   ]
  },
  {
   "cell_type": "code",
   "execution_count": 2,
   "metadata": {
    "_cell_guid": "79c7e3d0-c299-4dcb-8224-4455121ee9b0",
    "_uuid": "d629ff2d2480ee46fbb7e2d37f6b5fab8052498a"
   },
   "outputs": [],
   "source": [
    "SEED = 31\n",
    "N_ESTIMATORS = 2000\n",
    "TARGET = 'isFraud'\n",
    "VALIDATION_PERCENT = 0.01\n",
    "SCORING = 'roc_auc'"
   ]
  },
  {
   "cell_type": "code",
   "execution_count": 3,
   "metadata": {},
   "outputs": [],
   "source": [
    "def seed_everything(seed):\n",
    "    random.seed(seed)\n",
    "    os.environ['PYTHONHASHSEED'] = str(seed)\n",
    "    np.random.seed(seed)\n",
    "    \n",
    "seed_everything(SEED)"
   ]
  },
  {
   "cell_type": "code",
   "execution_count": 4,
   "metadata": {},
   "outputs": [
    {
     "name": "stdout",
     "output_type": "stream",
     "text": [
      "train=(590540, 375), test=(506691, 374)\n"
     ]
    }
   ],
   "source": [
    "file_folder = '../input/ieee-fraud-detection-preprocess'\n",
    "train = pd.read_csv(f'{file_folder}/train.csv')\n",
    "test = pd.read_csv(f'{file_folder}/test.csv')\n",
    "print(f'train={train.shape}, test={test.shape}')"
   ]
  },
  {
   "cell_type": "code",
   "execution_count": 5,
   "metadata": {},
   "outputs": [
    {
     "name": "stdout",
     "output_type": "stream",
     "text": [
      "194 predictors=['TransactionAmt_to_M4_mean', 'card3', '_pc_5', 'id_34', 'dist1_to_id_23_std', 'dist1_to_M2_mean', '_pc_18', 'D10', 'card6', 'M2', 'dist1_to_M4_std', 'dist1_to_id_38_std', 'dist1_to_DeviceType_std', 'C2', '_pc_16', 'TransactionAmt_to_M1_std', 'dist1_to_DeviceType_mean', 'dist1_to_id_36_mean', 'id_20', 'id_33', '_pc_8', 'dist1_to_M1_std', 'dist1_to_id_32_std', 'TransactionAmt_to_id_32_std', 'dist1_to_id_32_mean', 'dist1_to_M4_mean', 'TransactionAmt_to_id_27_std', 'C3', 'TransactionAmt_to_id_27_mean', 'dist1_to_M8_std', 'TransactionAmt_to_M3_std', 'dist1_to_card4_std', 'TransactionAmt_to_id_32_mean', 'TransactionAmt_to_id_37_mean', 'TransactionAmt_to_id_23_std', 'id_12', '_pc_0', 'TransactionAmt_to_M1_mean', 'dist1_to_M1_mean', 'TransactionAmt_to_id_15_std', 'dist1_to_M5_std', 'dist1_to_M9_std', 'TransactionAmt_to_card6_std', '_pc_12', 'C5', 'TransactionAmt_to_id_16_std', 'TransactionAmt_to_id_37_std', 'dist1_to_id_37_std', 'ProductCD', 'dist1_to_id_27_mean', 'TransactionAmt_to_card4_mean', 'DeviceInfo', 'C8', 'D2', 'TransactionAmt_to_id_34_std', 'card5', 'dist1_to_card6_mean', 'TransactionAmt_to_id_12_mean', 'TransactionAmt_to_id_35_std', 'dist1_to_id_15_std', 'id_15', 'id_30', 'id_25', '_pc_13', 'id_29', 'id_14', 'C14', 'dist1_to_M5_mean', 'M7', 'TransactionAmt_to_M8_mean', 'C7', 'dist1_to_id_12_std', 'id_22', 'dist1_to_M6_mean', '_pc_1', 'TransactionAmt_to_M9_mean', 'dist1_to_M9_mean', '_pc_4', 'DeviceType', 'TransactionAmt_to_id_29_mean', 'id_17', 'TransactionAmt_to_id_34_mean', 'dist1_to_M3_mean', 'M9', 'id_36', 'addr', 'dist1_to_ProductCD_std', 'M5', 'TransactionAmt', 'id_28', 'TransactionAmt_to_ProductCD_mean', '_pc_7', 'dist1_to_M7_mean', 'dist1_to_M2_std', 'dist1_to_card6_std', 'M8', 'TransactionAmt_to_M9_std', 'C12', '_pc_10', 'M3', 'R_emaildomain', 'D15', 'id_32', 'dist1_to_id_34_std', 'D1', '_pc_6', 'C4', 'card2', 'TransactionAmt_to_id_36_mean', 'id_27', 'dist1_to_M8_mean', 'dist1_to_id_28_std', 'id_23', 'dist1_to_id_29_mean', 'M6', 'dist1_to_id_28_mean', 'TransactionAmt_to_id_28_std', 'dist1_to_id_27_std', 'dist1_to_id_38_mean', 'TransactionAmt_to_id_16_mean', 'TransactionAmt_to_M5_std', 'C1', 'D11', 'id_21', 'dist1_to_M7_std', 'TransactionAmt_to_id_28_mean', 'TransactionAmt_to_id_38_std', 'TransactionAmt_to_M3_mean', 'TransactionAmt_to_id_35_mean', 'id_19', 'TransactionAmt_to_M4_std', 'dist1_to_id_23_mean', 'dist1_to_id_15_mean', 'dist1_to_id_16_mean', 'C9', 'C13', 'id_18', 'card1', 'TransactionAmt_to_ProductCD_std', 'dist1_to_id_34_mean', 'TransactionAmt_to_id_38_mean', 'TransactionAmt_to_M7_std', 'dist1_to_id_16_std', 'dist1_to_id_35_std', 'TransactionAmt_to_M2_mean', '_pc_3', 'TransactionAmt_to_M6_mean', 'id_13', 'TransactionAmt_to_card6_mean', 'TransactionAmt_to_DeviceType_std', 'TransactionAmt_to_id_29_std', 'id_26', 'TransactionAmt_to_M2_std', 'id_31', 'id_16', 'TransactionAmt_to_id_23_mean', '_pc_15', 'TransactionAmt_to_M7_mean', 'C10', 'D3', 'dist1_to_card4_mean', 'C6', 'TransactionAmt_to_id_15_mean', 'TransactionAmt_to_card4_std', '_pc_17', 'dist1_to_id_12_mean', 'id_24', 'TransactionAmt_to_M8_std', 'dist1_to_id_37_mean', 'dist1_to_ProductCD_mean', 'TransactionAmt_to_M6_std', '_pc_2', 'TransactionAmt_to_id_36_std', 'dist1_to_M6_std', 'TransactionAmt_to_M5_mean', 'TransactionAmt_to_DeviceType_mean', '_pc_9', 'C11', 'dist1_to_id_29_std', 'dist1_to_M3_std', 'dist1_to_id_36_std', 'D4', 'TransactionAmt_to_id_12_std', '_pc_14', 'M4', '_pc_11', 'M1', 'dist1_to_id_35_mean', 'id_37', 'P_emaildomain', 'id_35', 'dist1', 'card4', 'id_38']\n"
     ]
    }
   ],
   "source": [
    "excludes = {TARGET}\n",
    "for i in range(1, 340):\n",
    "    excludes.add(f'V{i}')\n",
    "\n",
    "\n",
    "cols = set(train.columns.values) - excludes\n",
    "PREDICTORS = list(cols)\n",
    "print(f'{len(PREDICTORS)} predictors={PREDICTORS}')"
   ]
  },
  {
   "cell_type": "code",
   "execution_count": 6,
   "metadata": {},
   "outputs": [],
   "source": [
    "val_size = int(VALIDATION_PERCENT * len(train))\n",
    "train_size = len(train) - val_size\n",
    "train_ind = [-1] * train_size\n",
    "val_ind = [0] * val_size\n",
    "ps = PredefinedSplit(test_fold=np.concatenate((train_ind, val_ind)))"
   ]
  },
  {
   "cell_type": "code",
   "execution_count": 7,
   "metadata": {},
   "outputs": [
    {
     "name": "stdout",
     "output_type": "stream",
     "text": [
      "best_params_={'model__max_depth': 8, 'model__min_samples_leaf': 10}\n",
      "best_score_=0.8736061644030151\n",
      "CPU times: user 1h 58min 16s, sys: 2.28 s, total: 1h 58min 18s\n",
      "Wall time: 1h 58min 18s\n"
     ]
    }
   ],
   "source": [
    "%%time\n",
    "y_train = train[TARGET]\n",
    "x_train = train[PREDICTORS]\n",
    "model = RandomForestClassifier(n_estimators=N_ESTIMATORS, max_features='log2')\n",
    "pipe = Pipeline([('model', model)])\n",
    "param_grid = {\n",
    "    'model__max_depth': [8],\n",
    "    'model__min_samples_leaf': [10]\n",
    "}\n",
    "cv = GridSearchCV(pipe, cv=ps, param_grid=param_grid, scoring=SCORING)\n",
    "cv.fit(x_train, y_train)\n",
    "print('best_params_={}\\nbest_score_={}'.format(repr(cv.best_params_), repr(cv.best_score_)))"
   ]
  },
  {
   "cell_type": "code",
   "execution_count": 8,
   "metadata": {},
   "outputs": [
    {
     "data": {
      "text/html": [
       "<div>\n",
       "<style scoped>\n",
       "    .dataframe tbody tr th:only-of-type {\n",
       "        vertical-align: middle;\n",
       "    }\n",
       "\n",
       "    .dataframe tbody tr th {\n",
       "        vertical-align: top;\n",
       "    }\n",
       "\n",
       "    .dataframe thead th {\n",
       "        text-align: right;\n",
       "    }\n",
       "</style>\n",
       "<table border=\"1\" class=\"dataframe\">\n",
       "  <thead>\n",
       "    <tr style=\"text-align: right;\">\n",
       "      <th></th>\n",
       "      <th>TransactionID</th>\n",
       "      <th>isFraud</th>\n",
       "    </tr>\n",
       "  </thead>\n",
       "  <tbody>\n",
       "    <tr>\n",
       "      <th>0</th>\n",
       "      <td>3663549</td>\n",
       "      <td>0.013238</td>\n",
       "    </tr>\n",
       "    <tr>\n",
       "      <th>1</th>\n",
       "      <td>3663550</td>\n",
       "      <td>0.012682</td>\n",
       "    </tr>\n",
       "    <tr>\n",
       "      <th>2</th>\n",
       "      <td>3663551</td>\n",
       "      <td>0.023269</td>\n",
       "    </tr>\n",
       "    <tr>\n",
       "      <th>3</th>\n",
       "      <td>3663552</td>\n",
       "      <td>0.023917</td>\n",
       "    </tr>\n",
       "    <tr>\n",
       "      <th>4</th>\n",
       "      <td>3663553</td>\n",
       "      <td>0.042436</td>\n",
       "    </tr>\n",
       "  </tbody>\n",
       "</table>\n",
       "</div>"
      ],
      "text/plain": [
       "   TransactionID   isFraud\n",
       "0        3663549  0.013238\n",
       "1        3663550  0.012682\n",
       "2        3663551  0.023269\n",
       "3        3663552  0.023917\n",
       "4        3663553  0.042436"
      ]
     },
     "execution_count": 8,
     "metadata": {},
     "output_type": "execute_result"
    }
   ],
   "source": [
    "x_test = test[PREDICTORS]\n",
    "sub = pd.read_csv(f'../input/ieee-fraud-detection/sample_submission.csv')\n",
    "sub[TARGET] = cv.predict_proba(x_test)[:,1]\n",
    "sub.head()"
   ]
  },
  {
   "cell_type": "code",
   "execution_count": 9,
   "metadata": {},
   "outputs": [
    {
     "name": "stderr",
     "output_type": "stream",
     "text": [
      "/opt/conda/lib/python3.6/site-packages/tensorflow/python/framework/dtypes.py:516: FutureWarning: Passing (type, 1) or '1type' as a synonym of type is deprecated; in a future version of numpy, it will be understood as (type, (1,)) / '(1,)type'.\n",
      "  _np_qint8 = np.dtype([(\"qint8\", np.int8, 1)])\n",
      "/opt/conda/lib/python3.6/site-packages/tensorflow/python/framework/dtypes.py:517: FutureWarning: Passing (type, 1) or '1type' as a synonym of type is deprecated; in a future version of numpy, it will be understood as (type, (1,)) / '(1,)type'.\n",
      "  _np_quint8 = np.dtype([(\"quint8\", np.uint8, 1)])\n",
      "/opt/conda/lib/python3.6/site-packages/tensorflow/python/framework/dtypes.py:518: FutureWarning: Passing (type, 1) or '1type' as a synonym of type is deprecated; in a future version of numpy, it will be understood as (type, (1,)) / '(1,)type'.\n",
      "  _np_qint16 = np.dtype([(\"qint16\", np.int16, 1)])\n",
      "/opt/conda/lib/python3.6/site-packages/tensorflow/python/framework/dtypes.py:519: FutureWarning: Passing (type, 1) or '1type' as a synonym of type is deprecated; in a future version of numpy, it will be understood as (type, (1,)) / '(1,)type'.\n",
      "  _np_quint16 = np.dtype([(\"quint16\", np.uint16, 1)])\n",
      "/opt/conda/lib/python3.6/site-packages/tensorflow/python/framework/dtypes.py:520: FutureWarning: Passing (type, 1) or '1type' as a synonym of type is deprecated; in a future version of numpy, it will be understood as (type, (1,)) / '(1,)type'.\n",
      "  _np_qint32 = np.dtype([(\"qint32\", np.int32, 1)])\n",
      "/opt/conda/lib/python3.6/site-packages/tensorflow/python/framework/dtypes.py:525: FutureWarning: Passing (type, 1) or '1type' as a synonym of type is deprecated; in a future version of numpy, it will be understood as (type, (1,)) / '(1,)type'.\n",
      "  np_resource = np.dtype([(\"resource\", np.ubyte, 1)])\n",
      "/opt/conda/lib/python3.6/site-packages/tensorboard/compat/tensorflow_stub/dtypes.py:541: FutureWarning: Passing (type, 1) or '1type' as a synonym of type is deprecated; in a future version of numpy, it will be understood as (type, (1,)) / '(1,)type'.\n",
      "  _np_qint8 = np.dtype([(\"qint8\", np.int8, 1)])\n",
      "/opt/conda/lib/python3.6/site-packages/tensorboard/compat/tensorflow_stub/dtypes.py:542: FutureWarning: Passing (type, 1) or '1type' as a synonym of type is deprecated; in a future version of numpy, it will be understood as (type, (1,)) / '(1,)type'.\n",
      "  _np_quint8 = np.dtype([(\"quint8\", np.uint8, 1)])\n",
      "/opt/conda/lib/python3.6/site-packages/tensorboard/compat/tensorflow_stub/dtypes.py:543: FutureWarning: Passing (type, 1) or '1type' as a synonym of type is deprecated; in a future version of numpy, it will be understood as (type, (1,)) / '(1,)type'.\n",
      "  _np_qint16 = np.dtype([(\"qint16\", np.int16, 1)])\n",
      "/opt/conda/lib/python3.6/site-packages/tensorboard/compat/tensorflow_stub/dtypes.py:544: FutureWarning: Passing (type, 1) or '1type' as a synonym of type is deprecated; in a future version of numpy, it will be understood as (type, (1,)) / '(1,)type'.\n",
      "  _np_quint16 = np.dtype([(\"quint16\", np.uint16, 1)])\n",
      "/opt/conda/lib/python3.6/site-packages/tensorboard/compat/tensorflow_stub/dtypes.py:545: FutureWarning: Passing (type, 1) or '1type' as a synonym of type is deprecated; in a future version of numpy, it will be understood as (type, (1,)) / '(1,)type'.\n",
      "  _np_qint32 = np.dtype([(\"qint32\", np.int32, 1)])\n",
      "/opt/conda/lib/python3.6/site-packages/tensorboard/compat/tensorflow_stub/dtypes.py:550: FutureWarning: Passing (type, 1) or '1type' as a synonym of type is deprecated; in a future version of numpy, it will be understood as (type, (1,)) / '(1,)type'.\n",
      "  np_resource = np.dtype([(\"resource\", np.ubyte, 1)])\n"
     ]
    },
    {
     "name": "stdout",
     "output_type": "stream",
     "text": [
      "['__output__.json', '__notebook__.ipynb', 'submission.csv']\n"
     ]
    }
   ],
   "source": [
    "sub.to_csv('submission.csv', index=False)\n",
    "print(os.listdir(\".\"))"
   ]
  }
 ],
 "metadata": {
  "kernelspec": {
   "display_name": "Python 3",
   "language": "python",
   "name": "python3"
  },
  "language_info": {
   "codemirror_mode": {
    "name": "ipython",
    "version": 3
   },
   "file_extension": ".py",
   "mimetype": "text/x-python",
   "name": "python",
   "nbconvert_exporter": "python",
   "pygments_lexer": "ipython3",
   "version": "3.6.6"
  }
 },
 "nbformat": 4,
 "nbformat_minor": 1
}
