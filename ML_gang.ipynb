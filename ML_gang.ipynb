{
  "nbformat": 4,
  "nbformat_minor": 0,
  "metadata": {
    "colab": {
      "name": "ML_gang.ipynb",
      "provenance": [],
      "collapsed_sections": [],
      "toc_visible": true
    },
    "kernelspec": {
      "name": "python3",
      "display_name": "Python 3"
    }
  },
  "cells": [
    {
      "cell_type": "markdown",
      "metadata": {
        "id": "XEOuK9SfIbgt",
        "colab_type": "text"
      },
      "source": [
        "# Step 1: Data Preprocessing"
      ]
    },
    {
      "cell_type": "code",
      "metadata": {
        "id": "BLtUzBjWIZ7n",
        "colab_type": "code",
        "colab": {}
      },
      "source": [
        "import pandas as pd\n",
        "import numpy as np"
      ],
      "execution_count": 0,
      "outputs": []
    },
    {
      "cell_type": "code",
      "metadata": {
        "id": "KNvnNRJ-NMms",
        "colab_type": "code",
        "colab": {}
      },
      "source": [
        "tr_ident = pd.read_csv('data/train_identity.csv')\n",
        "tr_trans = pd.read_csv('data/train_transaction.csv')\n",
        "\n",
        "ts_ident = pd.read_csv('data/test_identity.csv')\n",
        "ts_trans = pd.read_csv('data/test_transaction.csv')"
      ],
      "execution_count": 0,
      "outputs": []
    },
    {
      "cell_type": "code",
      "metadata": {
        "id": "LOzh0DrLNt6g",
        "colab_type": "code",
        "outputId": "1bb3802a-dfe5-4996-e287-b3b69d18b008",
        "colab": {
          "base_uri": "https://localhost:8080/",
          "height": 153
        }
      },
      "source": [
        "tr_ident."
      ],
      "execution_count": 0,
      "outputs": [
        {
          "output_type": "stream",
          "text": [
            "   TransactionID  id_01  ...  DeviceType                     DeviceInfo\n",
            "0        2987004    0.0  ...      mobile  SAMSUNG SM-G892A Build/NRD90M\n",
            "1        2987008   -5.0  ...      mobile                     iOS Device\n",
            "2        2987010   -5.0  ...     desktop                        Windows\n",
            "3        2987011   -5.0  ...     desktop                            NaN\n",
            "4        2987016    0.0  ...     desktop                          MacOS\n",
            "\n",
            "[5 rows x 41 columns]\n"
          ],
          "name": "stdout"
        }
      ]
    },
    {
      "cell_type": "code",
      "metadata": {
        "id": "3yCtoeUBPJWr",
        "colab_type": "code",
        "outputId": "bfdba42a-eb18-4a29-ec02-45aad0075c7a",
        "colab": {
          "base_uri": "https://localhost:8080/",
          "height": 153
        }
      },
      "source": [
        "print(tr_trans.head())"
      ],
      "execution_count": 0,
      "outputs": [
        {
          "output_type": "stream",
          "text": [
            "   TransactionID  isFraud  TransactionDT  ...  V337 V338  V339\n",
            "0        2987000        0          86400  ...   NaN  NaN   NaN\n",
            "1        2987001        0          86401  ...   NaN  NaN   NaN\n",
            "2        2987002        0          86469  ...   NaN  NaN   NaN\n",
            "3        2987003        0          86499  ...   NaN  NaN   NaN\n",
            "4        2987004        0          86506  ...   0.0  0.0   0.0\n",
            "\n",
            "[5 rows x 394 columns]\n"
          ],
          "name": "stdout"
        }
      ]
    },
    {
      "cell_type": "code",
      "metadata": {
        "id": "-tl8cEOgPM8F",
        "colab_type": "code",
        "colab": {}
      },
      "source": [
        ""
      ],
      "execution_count": 0,
      "outputs": []
    }
  ]
}