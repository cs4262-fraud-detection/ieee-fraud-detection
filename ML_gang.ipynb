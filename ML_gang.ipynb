{
 "cells": [
  {
   "cell_type": "markdown",
   "metadata": {
    "colab_type": "text",
    "id": "XEOuK9SfIbgt"
   },
   "source": [
    "# Step 1: Data Preprocessing"
   ]
  },
  {
   "cell_type": "code",
   "execution_count": 3,
   "metadata": {
    "colab": {},
    "colab_type": "code",
    "id": "BLtUzBjWIZ7n"
   },
   "outputs": [],
   "source": [
    "import pandas as pd\n",
    "import numpy as np"
   ]
  },
  {
   "cell_type": "code",
   "execution_count": 2,
   "metadata": {
    "colab": {},
    "colab_type": "code",
    "id": "KNvnNRJ-NMms"
   },
   "outputs": [
    {
     "name": "stdout",
     "output_type": "stream",
     "text": [
      "       TransactionID  isFraud  TransactionDT  TransactionAmt ProductCD  card1  \\\n",
      "51646        3038646        0        1210011          158.95         W   3484   \n",
      "51647        3038647        0        1210011           29.00         W   2392   \n",
      "51648        3038648        0        1210012          100.00         H   8830   \n",
      "51649        3038649        0        1210024           25.95         W   6170   \n",
      "51650        3038650        0        1210024           57.95         W  17188   \n",
      "\n",
      "       card2  card3       card4  card5  ...  V330  V331  V332  V333  V334  \\\n",
      "51646  372.0  150.0  mastercard  117.0  ...   NaN   NaN   NaN   NaN   NaN   \n",
      "51647  360.0  150.0  mastercard  166.0  ...   NaN   NaN   NaN   NaN   NaN   \n",
      "51648  250.0  150.0        visa  226.0  ...   0.0   0.0   0.0   0.0   0.0   \n",
      "51649  174.0  150.0        visa  226.0  ...   NaN   NaN   NaN   NaN   NaN   \n",
      "51650  321.0  150.0        visa  226.0  ...   NaN   NaN   NaN   NaN   NaN   \n",
      "\n",
      "      V335 V336  V337  V338  V339  \n",
      "51646  NaN  NaN   NaN   NaN   NaN  \n",
      "51647  NaN  NaN   NaN   NaN   NaN  \n",
      "51648  0.0  0.0   0.0   0.0   0.0  \n",
      "51649  NaN  NaN   NaN   NaN   NaN  \n",
      "51650  NaN  NaN   NaN   NaN   NaN  \n",
      "\n",
      "[5 rows x 394 columns]\n",
      "   TransactionID  isFraud  TransactionDT  TransactionAmt ProductCD  card1  \\\n",
      "0        3038651        0        1210027          39.061         C  15885   \n",
      "1        3038652        0        1210040          50.000         H   6019   \n",
      "2        3038653        0        1210050         117.000         W   2455   \n",
      "3        3038654        0        1210051         113.950         W  16326   \n",
      "4        3038655        1        1210069         100.000         R  12065   \n",
      "\n",
      "   card2  card3       card4  card5  ...  V330  V331  V332  V333  V334 V335  \\\n",
      "0  545.0  185.0        visa  138.0  ...   NaN   NaN   NaN   NaN   NaN  NaN   \n",
      "1  583.0  150.0        visa  226.0  ...   0.0   0.0   0.0   0.0   0.0  0.0   \n",
      "2  321.0  150.0        visa  226.0  ...   NaN   NaN   NaN   NaN   NaN  NaN   \n",
      "3  321.0  150.0        visa  226.0  ...   NaN   NaN   NaN   NaN   NaN  NaN   \n",
      "4  575.0  150.0  mastercard  224.0  ...   0.0   0.0   0.0   0.0   0.0  0.0   \n",
      "\n",
      "  V336  V337  V338  V339  \n",
      "0  NaN   NaN   NaN   NaN  \n",
      "1  0.0   0.0   0.0   0.0  \n",
      "2  NaN   NaN   NaN   NaN  \n",
      "3  NaN   NaN   NaN   NaN  \n",
      "4  0.0   0.0   0.0   0.0  \n",
      "\n",
      "[5 rows x 394 columns]\n",
      "       TransactionID  isFraud  TransactionDT  TransactionAmt ProductCD  card1  \\\n",
      "51650        3038650        0        1210024           57.95         W  17188   \n",
      "\n",
      "       card2  card3 card4  card5  ...  V330  V331  V332  V333  V334 V335 V336  \\\n",
      "51650  321.0  150.0  visa  226.0  ...   NaN   NaN   NaN   NaN   NaN  NaN  NaN   \n",
      "\n",
      "       V337  V338  V339  \n",
      "51650   NaN   NaN   NaN  \n",
      "\n",
      "[1 rows x 394 columns]\n",
      "       TransactionID  isFraud  TransactionDT  TransactionAmt ProductCD  card1  \\\n",
      "51651        3038651        0        1210027          39.061         C  15885   \n",
      "\n",
      "       card2  card3 card4  card5  ...  V330  V331  V332  V333  V334 V335 V336  \\\n",
      "51651  545.0  185.0  visa  138.0  ...   NaN   NaN   NaN   NaN   NaN  NaN  NaN   \n",
      "\n",
      "       V337  V338  V339  \n",
      "51651   NaN   NaN   NaN  \n",
      "\n",
      "[1 rows x 394 columns]\n"
     ]
    }
   ],
   "source": [
    "# We only concate the first two train_transaction dataframes for testing purposes.\n",
    "train_transaction_dataframes_split = [pd.read_csv('data/train_transaction/train_transaction-' + str(i) + '.csv') for i in range(1,3)]\n",
    "train_transaction = pd.concat(train_transaction_dataframes_split, ignore_index=True)\n",
    "\n",
    "# Test if pd.concat works appropriately...\n",
    "print(train_transaction_dataframes_split[0].tail())\n",
    "print(train_transaction_dataframes_split[1].head())\n",
    "print(train_transaction.iloc[[51650]])\n",
    "print(train_transaction.iloc[[51651]])"
   ]
  },
  {
   "cell_type": "code",
   "execution_count": 3,
   "metadata": {
    "colab": {
     "base_uri": "https://localhost:8080/",
     "height": 153
    },
    "colab_type": "code",
    "id": "LOzh0DrLNt6g",
    "outputId": "1bb3802a-dfe5-4996-e287-b3b69d18b008"
   },
   "outputs": [],
   "source": [
    "train_transaction_dataframes_split = [pd.read_csv('data/train_transaction/train_transaction-' + str(i) + '.csv') for i in range(1,8)]\n",
    "train_transaction = pd.concat(train_transaction_dataframes_split, ignore_index=True)"
   ]
  },
  {
   "cell_type": "code",
   "execution_count": null,
   "metadata": {
    "colab": {
     "base_uri": "https://localhost:8080/",
     "height": 153
    },
    "colab_type": "code",
    "id": "3yCtoeUBPJWr",
    "outputId": "bfdba42a-eb18-4a29-ec02-45aad0075c7a"
   },
   "outputs": [],
   "source": [
    "test_transaction_dataframes_split = [pd.read_csv('data/test_transaction/test_transaction-' + str(i) + '.csv') for i in range(1,7)]\n",
    "test_transaction = pd.concat(test_transaction_dataframes_split, ignore_index=True)"
   ]
  },
  {
   "cell_type": "code",
   "execution_count": 4,
   "metadata": {
    "colab": {},
    "colab_type": "code",
    "id": "-tl8cEOgPM8F"
   },
   "outputs": [],
   "source": [
    "train_identity = pd.read_csv('data/train_identity.csv')"
   ]
  },
  {
   "cell_type": "code",
   "execution_count": 5,
   "metadata": {},
   "outputs": [],
   "source": [
    "test_identity = pd.read_csv('data/test_identity.csv')"
   ]
  },
  {
   "cell_type": "code",
   "execution_count": 6,
   "metadata": {},
   "outputs": [
    {
     "name": "stdout",
     "output_type": "stream",
     "text": [
      "   TransactionID  id_01     id_02  id_03  id_04  id_05  id_06  id_07  id_08  \\\n",
      "0        2987004    0.0   70787.0    NaN    NaN    NaN    NaN    NaN    NaN   \n",
      "1        2987008   -5.0   98945.0    NaN    NaN    0.0   -5.0    NaN    NaN   \n",
      "2        2987010   -5.0  191631.0    0.0    0.0    0.0    0.0    NaN    NaN   \n",
      "3        2987011   -5.0  221832.0    NaN    NaN    0.0   -6.0    NaN    NaN   \n",
      "4        2987016    0.0    7460.0    0.0    0.0    1.0    0.0    NaN    NaN   \n",
      "\n",
      "   id_09              ...                              id_31  id_32  \\\n",
      "0    NaN              ...                samsung browser 6.2   32.0   \n",
      "1    NaN              ...                 mobile safari 11.0   32.0   \n",
      "2    0.0              ...                        chrome 62.0    NaN   \n",
      "3    NaN              ...                        chrome 62.0    NaN   \n",
      "4    0.0              ...                        chrome 62.0   24.0   \n",
      "\n",
      "       id_33           id_34  id_35 id_36 id_37  id_38  DeviceType  \\\n",
      "0  2220x1080  match_status:2      T     F     T      T      mobile   \n",
      "1   1334x750  match_status:1      T     F     F      T      mobile   \n",
      "2        NaN             NaN      F     F     T      T     desktop   \n",
      "3        NaN             NaN      F     F     T      T     desktop   \n",
      "4   1280x800  match_status:2      T     F     T      T     desktop   \n",
      "\n",
      "                      DeviceInfo  \n",
      "0  SAMSUNG SM-G892A Build/NRD90M  \n",
      "1                     iOS Device  \n",
      "2                        Windows  \n",
      "3                            NaN  \n",
      "4                          MacOS  \n",
      "\n",
      "[5 rows x 41 columns]\n",
      "   TransactionID  id_01     id_02  id_03  id_04  id_05  id_06  id_07  id_08  \\\n",
      "0        3663586  -45.0  280290.0    NaN    NaN    0.0    0.0    NaN    NaN   \n",
      "1        3663588    0.0    3579.0    0.0    0.0    0.0    0.0    NaN    NaN   \n",
      "2        3663597   -5.0  185210.0    NaN    NaN    1.0    0.0    NaN    NaN   \n",
      "3        3663601  -45.0  252944.0    0.0    0.0    0.0    0.0    NaN    NaN   \n",
      "4        3663602  -95.0  328680.0    NaN    NaN    7.0  -33.0    NaN    NaN   \n",
      "\n",
      "   id_09             ...                                 id_31  id_32  \\\n",
      "0    NaN             ...               chrome 67.0 for android    NaN   \n",
      "1    0.0             ...               chrome 67.0 for android   24.0   \n",
      "2    NaN             ...                    ie 11.0 for tablet    NaN   \n",
      "3    0.0             ...               chrome 67.0 for android    NaN   \n",
      "4    NaN             ...               chrome 67.0 for android    NaN   \n",
      "\n",
      "      id_33           id_34  id_35 id_36 id_37  id_38  DeviceType  \\\n",
      "0       NaN             NaN      F     F     T      F      mobile   \n",
      "1  1280x720  match_status:2      T     F     T      T      mobile   \n",
      "2       NaN             NaN      F     T     T      F     desktop   \n",
      "3       NaN             NaN      F     F     T      F      mobile   \n",
      "4       NaN             NaN      F     F     T      F      mobile   \n",
      "\n",
      "                    DeviceInfo  \n",
      "0  MYA-L13 Build/HUAWEIMYA-L13  \n",
      "1         LGLS676 Build/MXB48T  \n",
      "2                  Trident/7.0  \n",
      "3  MYA-L13 Build/HUAWEIMYA-L13  \n",
      "4         SM-G9650 Build/R16NW  \n",
      "\n",
      "[5 rows x 41 columns]\n"
     ]
    }
   ],
   "source": [
    "print(train_identity.head())\n",
    "print(test_identity.head())"
   ]
  },
  {
   "cell_type": "code",
   "execution_count": null,
   "metadata": {},
   "outputs": [],
   "source": []
  }
 ],
 "metadata": {
  "colab": {
   "collapsed_sections": [],
   "name": "ML_gang.ipynb",
   "provenance": [],
   "toc_visible": true
  },
  "kernelspec": {
   "display_name": "Python 3",
   "language": "python",
   "name": "python3"
  },
  "language_info": {
   "codemirror_mode": {
    "name": "ipython",
    "version": 3
   },
   "file_extension": ".py",
   "mimetype": "text/x-python",
   "name": "python",
   "nbconvert_exporter": "python",
   "pygments_lexer": "ipython3",
   "version": "3.4.9"
  }
 },
 "nbformat": 4,
 "nbformat_minor": 1
}
